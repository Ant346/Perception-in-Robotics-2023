{
 "cells": [
  {
   "cell_type": "code",
   "execution_count": 38,
   "metadata": {},
   "outputs": [
    {
     "name": "stdout",
     "output_type": "stream",
     "text": [
      "Requirement already satisfied: mrob in c:\\users\\serge\\appdata\\local\\programs\\python\\python310\\lib\\site-packages (0.0.8)\n"
     ]
    }
   ],
   "source": [
    "!pip install mrob"
   ]
  },
  {
   "cell_type": "code",
   "execution_count": 39,
   "metadata": {},
   "outputs": [],
   "source": [
    "import mrob\n",
    "import numpy as np"
   ]
  },
  {
   "cell_type": "code",
   "execution_count": 40,
   "metadata": {},
   "outputs": [
    {
     "data": {
      "text/plain": [
       "'0.0.8'"
      ]
     },
     "execution_count": 40,
     "metadata": {},
     "output_type": "execute_result"
    }
   ],
   "source": [
    "mrob.__version__"
   ]
  },
  {
   "cell_type": "markdown",
   "metadata": {},
   "source": [
    "# Graph SLAM, using a library\n",
    "in this seminar, we will show some of the functionalities of using a library for solving graphSLAM. [MROB: Mobile Robotics library](https://github.com/MobileRoboticsSkoltech/mrob) is a library for general use of perception techniques: FGraphs, Rigid Body Transformation and Point Cloud alignment.\n",
    "\n",
    "Other interesting libraries to explore are [g2o (Kumerle'2011)](https://github.com/RainerKuemmerle/g2o) and [GTSAM (Dellaert'2011)](https://gtsam.org/)."
   ]
  },
  {
   "cell_type": "markdown",
   "metadata": {},
   "source": [
    "## 1 Creating a Graph\n",
    "We will start by creating a graph, and then add a node. You can get familiar by using help or from the examples in mrob (see github python_examples)"
   ]
  },
  {
   "cell_type": "code",
   "execution_count": 41,
   "metadata": {},
   "outputs": [],
   "source": [
    "graph = mrob.FGraph()"
   ]
  },
  {
   "cell_type": "code",
   "execution_count": 42,
   "metadata": {},
   "outputs": [
    {
     "name": "stdout",
     "output_type": "stream",
     "text": [
      "Status of graph: 0Nodes and 0Factors.\n"
     ]
    }
   ],
   "source": [
    "with mrob.ostream_redirect(stdout=True, stderr=True):\n",
    "      graph.print()"
   ]
  },
  {
   "cell_type": "markdown",
   "metadata": {},
   "source": [
    "## 2. Add the first Node $x_0$\n",
    "We will add the first node to the Fgraph. Create a random initial state ($\\sigma = 0.1 $) and add it to the graph. For that, use the function `add_node_pose_2d()`.\n",
    "\n",
    "Print your graph in simplified mode and in complete form."
   ]
  },
  {
   "cell_type": "code",
   "execution_count": 43,
   "metadata": {},
   "outputs": [
    {
     "name": "stdout",
     "output_type": "stream",
     "text": [
      "\u001b[1;31mDocstring:\u001b[0m\n",
      "add_node_pose_2d(self: mrob.mrob.FGraph, arg0: numpy.ndarray[numpy.float64[3, 1]]) -> int\n",
      "\n",
      " - arguments, initial estimate (np.zeros(3)\n",
      "output, node id, for later usage\n",
      "\u001b[1;31mType:\u001b[0m      method\n"
     ]
    }
   ],
   "source": [
    "?graph.add_node_pose_2d"
   ]
  },
  {
   "cell_type": "code",
   "execution_count": 44,
   "metadata": {},
   "outputs": [],
   "source": [
    "mean=np.array([0,0,0])\n",
    "cov=np.eye(3)*0.1\n",
    "n=1\n",
    "\n",
    "state=np.random.multivariate_normal(mean,cov,n)\n",
    "node_id=graph.add_node_pose_2d(state[0])\n"
   ]
  },
  {
   "cell_type": "code",
   "execution_count": 45,
   "metadata": {},
   "outputs": [
    {
     "name": "stdout",
     "output_type": "stream",
     "text": [
      "Status of graph: 1Nodes and 0Factors.\n",
      "Printing NodePose2d: 0, state = \n",
      "0.486267\n",
      "0.333174\n",
      "0.526761\n",
      "and neighbour factors 0\n"
     ]
    },
    {
     "name": "stdout",
     "output_type": "stream",
     "text": [
      "\u001b[1;31mDocstring:\u001b[0m\n",
      "print(self: mrob.mrob.FGraph, completePrint: bool = False) -> None\n",
      "\n",
      "By default False: does not print all the information on the Fgraph\n",
      "\u001b[1;31mType:\u001b[0m      method\n"
     ]
    }
   ],
   "source": [
    "?graph.print\n",
    "with mrob.ostream_redirect(stdout=True, stderr=True):\n",
    "      graph.print(True)"
   ]
  },
  {
   "cell_type": "markdown",
   "metadata": {},
   "source": [
    "## 3. Add a factor to $x_0$\n",
    "Now that we have a node in the graph, we want to add the first observation. In this case it will be an anchor factor, assuming we are observing that the node is at $[0,0,0]$ with information $\\Sigma_{x_0}= 10^6 I$ "
   ]
  },
  {
   "cell_type": "code",
   "execution_count": 46,
   "metadata": {},
   "outputs": [
    {
     "name": "stdout",
     "output_type": "stream",
     "text": [
      "Status of graph: 1Nodes and 1Factors.\n",
      "Printing NodePose2d: 0, state = \n",
      "0.486267\n",
      "0.333174\n",
      "0.526761\n",
      "and neighbour factors 1\n",
      "Printing Factor: 0, obs= \n",
      "0\n",
      "0\n",
      "0\n",
      " Residuals= \n",
      "1.12856e+277\n",
      "8.93169e+271\n",
      "4.76485e+180 \n",
      "and Information matrix\n",
      "1e+06     0     0\n",
      "    0 1e+06     0\n",
      "    0     0 1e+06\n",
      " Calculated Jacobian = \n",
      "0 0 0\n",
      "0 0 0\n",
      "0 0 0\n",
      " Chi2 error = 0 and neighbour Nodes 1\n"
     ]
    }
   ],
   "source": [
    "# ?graph.add_factor_1pose_2d\n",
    "mean_obs=np.array([0,0,0])\n",
    "cov_obs=np.eye(3)*1e6\n",
    "n_obs=1\n",
    "graph.add_factor_1pose_2d(mean_obs,node_id,cov_obs)\n",
    "with mrob.ostream_redirect(stdout=True, stderr=True):\n",
    "      graph.print(True)"
   ]
  },
  {
   "cell_type": "markdown",
   "metadata": {},
   "source": [
    "## 4. Analyze the current error in the graph\n",
    "For this, use the function `chi2()`, which evaluates the problem at the current point and calculates the current value of the residuals.\n",
    "\n",
    "You can also get the current state estimate by using the function `get_estimated_state()`. Print its current value."
   ]
  },
  {
   "cell_type": "code",
   "execution_count": 47,
   "metadata": {},
   "outputs": [
    {
     "data": {
      "text/plain": [
       "312469.0118939331"
      ]
     },
     "execution_count": 47,
     "metadata": {},
     "output_type": "execute_result"
    }
   ],
   "source": [
    "graph.chi2()"
   ]
  },
  {
   "cell_type": "code",
   "execution_count": 48,
   "metadata": {},
   "outputs": [
    {
     "data": {
      "text/plain": [
       "[array([[0.48626726],\n",
       "        [0.33317408],\n",
       "        [0.52676105]])]"
      ]
     },
     "execution_count": 48,
     "metadata": {},
     "output_type": "execute_result"
    }
   ],
   "source": [
    "graph.get_estimated_state()"
   ]
  },
  {
   "cell_type": "markdown",
   "metadata": {},
   "source": [
    "## 5. Solve\n",
    "We will use the Gauss Newton routine (default) with one iteration. For that, call the function `solve()` and recalculate the current estimate and the error."
   ]
  },
  {
   "cell_type": "code",
   "execution_count": 49,
   "metadata": {},
   "outputs": [
    {
     "name": "stdout",
     "output_type": "stream",
     "text": [
      "\u001b[1;31mDocstring:\u001b[0m\n",
      "solve(self: mrob.mrob.FGraph, method: mrob.mrob.FGraph.optimMethod = <FGraph.optimMethod.GN: 0>, maxIters: int = 30, lambda: float = 1e-06, solutionTolerance: float = 0.01) -> None\n",
      "\n",
      "Solves the corresponding FG.\n",
      "Options:\n",
      " method = mrob.GN (Gauss Newton), by default option. It carries out a SINGLE iteration.\n",
      "                  = mrob.LM (Levenberg-Marquard), it has several parameters:\n",
      " - marIters = 30 (by default). Only for LM\n",
      " - lambda = 1-6, LM paramter for the size of the update\n",
      " - solutionTolerance: convergence criteria.\n",
      "\u001b[1;31mType:\u001b[0m      method\n"
     ]
    }
   ],
   "source": [
    "?graph.solve"
   ]
  },
  {
   "cell_type": "code",
   "execution_count": 50,
   "metadata": {},
   "outputs": [
    {
     "name": "stdout",
     "output_type": "stream",
     "text": [
      "Status of graph: 1Nodes and 1Factors.\n",
      "Printing NodePose2d: 0, state = \n",
      "5.55112e-17\n",
      "          0\n",
      "          0\n",
      "and neighbour factors 1\n",
      "Printing Factor: 0, obs= \n",
      "0\n",
      "0\n",
      "0\n",
      " Residuals= \n",
      "0.486267\n",
      "0.333174\n",
      "0.526761 \n",
      "and Information matrix\n",
      "1e+06     0     0\n",
      "    0 1e+06     0\n",
      "    0     0 1e+06\n",
      " Calculated Jacobian = \n",
      "1 0 0\n",
      "0 1 0\n",
      "0 0 1\n",
      " Chi2 error = 312469 and neighbour Nodes 1\n"
     ]
    }
   ],
   "source": [
    "graph.solve(maxIters=int(50))\n",
    "with mrob.ostream_redirect(stdout=True, stderr=True):\n",
    "    \n",
    "    graph.print(True)"
   ]
  }
 ],
 "metadata": {
  "kernelspec": {
   "display_name": "Python 3",
   "language": "python",
   "name": "python3"
  },
  "language_info": {
   "codemirror_mode": {
    "name": "ipython",
    "version": 3
   },
   "file_extension": ".py",
   "mimetype": "text/x-python",
   "name": "python",
   "nbconvert_exporter": "python",
   "pygments_lexer": "ipython3",
   "version": "3.10.8"
  },
  "vscode": {
   "interpreter": {
    "hash": "05d0ac6c0e661dcf7870716260c4c1d46f6d6ed7db6e1bd675f8387b27b9c356"
   }
  }
 },
 "nbformat": 4,
 "nbformat_minor": 4
}
